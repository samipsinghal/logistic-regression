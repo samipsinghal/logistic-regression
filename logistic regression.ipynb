{
 "cells": [
  {
   "cell_type": "code",
   "execution_count": null,
   "metadata": {},
   "outputs": [],
   "source": [
    "Summary :\n",
    "    \n",
    "    Training Accuracy : 0.99\n",
    "    \n",
    "    Testing Accuracy: 0.99\n",
    "    \n",
    "    No. of iteration to converge : 200\n",
    "    \n",
    "    Do you think your model overfits? \n",
    "    -> No the model does not over fit\n",
    "    \n",
    "    \n",
    "    Features with highest absoulute weight : \n",
    "    -> 'dst_host_srv_serror_rate', 'serror_rate', 'dst_host_rerror_rate'\n",
    "    \n",
    "    \n",
    "    Show how the train and test accuracy varies with different regularization strengths. \n",
    "    -> Different regularizations and solver combination tried tried using 'penalty = ' and 'solver ='. \n",
    "    With the increase in strength , the convergence decreases\n"
   ]
  },
  {
   "cell_type": "code",
   "execution_count": 14,
   "metadata": {},
   "outputs": [],
   "source": [
    "import numpy as np\n",
    "import pandas as pd\n",
    "\n",
    "features = ['duration','protocol_type','service','flag','src_bytes','dst_bytes','land','wrong_fragment','urgent',\n",
    "'hot','num_failed_logins','logged_in','num_compromised','root_shell','su_attempted','num_root','num_file_creations',\n",
    "'num_shells','num_access_files','num_outbound_cmds','is_host_login','is_guest_login','count','srv_count',\n",
    "'serror_rate','srv_serror_rate','rerror_rate','srv_rerror_rate','same_srv_rate','diff_srv_rate','srv_diff_host_rate',\n",
    "'dst_host_count','dst_host_srv_count','dst_host_same_srv_rate','dst_host_diff_srv_rate','dst_host_same_src_port_rate',\n",
    "'dst_host_srv_diff_host_rate','dst_host_serror_rate','dst_host_srv_serror_rate','dst_host_rerror_rate','dst_host_srv_rerror_rate',\n",
    "'label']\n",
    "\n",
    "#intrusion_type = ['back','buffer_overflow','ftp_write',\n",
    " #'guess_passwd','imap,ipsweep','land,loadmodule',\n",
    " #'multihop,neptune','nmap,normal','perl',\n",
    " #'phf','pod','portsweep','rootkit',\n",
    " #'satan','smurf','spy','teardrop',\n",
    " #'warezclient','warezmaster']"
   ]
  },
  {
   "cell_type": "code",
   "execution_count": 15,
   "metadata": {},
   "outputs": [],
   "source": [
    "data = pd.read_csv('kddcup.data', names = features, header=None)\n",
    "data.drop(data.loc[data['label']=='normal.'].index, inplace=True)"
   ]
  },
  {
   "cell_type": "markdown",
   "metadata": {},
   "source": [
    "## Converting the label probe/non probe to 0 and 1"
   ]
  },
  {
   "cell_type": "code",
   "execution_count": 16,
   "metadata": {},
   "outputs": [],
   "source": [
    "l_nprobe = ['back.','buffer_overflow.','ftp_write.','guess_passwd.','imap.','land.','loadmodule.','multihop.','neptune.','perl.','phf.','pod.','rootkit.','smurf.','spy.','teardrop.','warezclient.','warezmaster.']\n",
    "l_probe = ['ipsweep.','nmap.','portsweep.','satan.']\n",
    "\n",
    "#0 if normal , 1 if non-probe , 2 if probe\n",
    "\n",
    "\n",
    "data['label'] = data['label'].apply(lambda x: 2 if x == 'normal.' else (0 if (x in l_nprobe ) else 1))\n",
    "\n",
    "# Get unique labels : print(data['label'].unique())\n",
    "# Review the columns which might need integer encoding data.dtypes"
   ]
  },
  {
   "cell_type": "code",
   "execution_count": 17,
   "metadata": {},
   "outputs": [],
   "source": [
    "from sklearn.preprocessing import LabelEncoder\n",
    "from sklearn.linear_model import LogisticRegression\n",
    "from sklearn.model_selection import cross_val_score\n",
    "\n",
    "from sklearn.preprocessing import OneHotEncoder\n",
    "from sklearn.compose import make_column_transformer\n",
    "\n"
   ]
  },
  {
   "cell_type": "markdown",
   "metadata": {},
   "source": [
    "## One Hot Encoding the columns"
   ]
  },
  {
   "cell_type": "code",
   "execution_count": 18,
   "metadata": {},
   "outputs": [],
   "source": [
    "protocol_end = pd.get_dummies(data.protocol_type)\n",
    "service_end = pd.get_dummies(data.service)\n",
    "flag = pd.get_dummies(data.flag)\n",
    "\n"
   ]
  },
  {
   "cell_type": "code",
   "execution_count": 27,
   "metadata": {},
   "outputs": [],
   "source": [
    "data_encoded = pd.concat([data,protocol_end,service_end,flag],axis = 'columns')"
   ]
  },
  {
   "cell_type": "code",
   "execution_count": 29,
   "metadata": {},
   "outputs": [],
   "source": [
    "\n",
    "data_encoded_final = data_encoded.drop(['protocol_type','flag','service'],axis = 'columns')\n",
    "#data_encoded.drop('service',axis = 'columns')\n",
    "#data_encoded.drop('flag',axis = 'columns')\n",
    "\n"
   ]
  },
  {
   "cell_type": "markdown",
   "metadata": {},
   "source": [
    "le = LabelEncoder()\n",
    "protocol_end = le.fit_transform(data['protocol_type'])\n",
    "data.drop('protocol_type',axis = 'columns')\n",
    "data['protocol_type'] = protocol_end"
   ]
  },
  {
   "cell_type": "markdown",
   "metadata": {},
   "source": [
    "le1 = LabelEncoder()\n",
    "service_end = le1.fit_transform(data['service'])\n",
    "data.drop('service',axis = 'columns')\n",
    "data['service'] = service_end"
   ]
  },
  {
   "cell_type": "markdown",
   "metadata": {},
   "source": [
    "le2 = LabelEncoder()\n",
    "flag_end = le2.fit_transform(data['flag'])\n",
    "data.drop('flag',axis = 'columns')\n",
    "data['flag'] = flag_end\n"
   ]
  },
  {
   "cell_type": "markdown",
   "metadata": {},
   "source": [
    "# if validation of what all categories were mapped is needed  \n",
    "#le1.classes_\n",
    "#le2.classes_\n",
    "\n",
    "\n",
    "#Quick look at how the data looks\n",
    "#data.head(10)\n",
    "#data.dtypes\n",
    "#data.drop_duplicates(subset=features, keep='first', inplace = True)\n",
    "\n",
    "\n",
    "\n",
    "#Save the data to a pickle file to avoid reprocessing and enable restartability\n",
    "#data.to_pickle('data.pkl')"
   ]
  },
  {
   "cell_type": "markdown",
   "metadata": {},
   "source": [
    "## X and y being created"
   ]
  },
  {
   "cell_type": "code",
   "execution_count": 31,
   "metadata": {},
   "outputs": [],
   "source": [
    "X = data_encoded_final.drop('label',axis = 'columns')\n",
    "y =  data_encoded_final.label\n",
    "\n",
    "# validate if X and y have same rows # y.shape"
   ]
  },
  {
   "cell_type": "code",
   "execution_count": 33,
   "metadata": {},
   "outputs": [
    {
     "data": {
      "text/plain": [
       "(3925650,)"
      ]
     },
     "execution_count": 33,
     "metadata": {},
     "output_type": "execute_result"
    }
   ],
   "source": [
    "y.shape\n"
   ]
  },
  {
   "cell_type": "markdown",
   "metadata": {},
   "source": [
    "## Test and Training Split and Scaling the data"
   ]
  },
  {
   "cell_type": "code",
   "execution_count": 34,
   "metadata": {},
   "outputs": [
    {
     "name": "stdout",
     "output_type": "stream",
     "text": [
      "Labels count in y: [3884548   41102]\n",
      "Labels count in y_train: [3107638   32882]\n",
      "Labels count in y_test: [776910   8220]\n"
     ]
    }
   ],
   "source": [
    "from sklearn.model_selection import train_test_split\n",
    "from sklearn.preprocessing import StandardScaler\n",
    "\n",
    "\n",
    "X_train, X_test, y_train, y_test = train_test_split(\n",
    "    X, y, test_size=0.2, random_state=1, stratify=y)\n",
    "\n",
    "\n",
    "sc = StandardScaler()\n",
    "sc.fit(X_train)\n",
    "\n",
    "X_train_std = sc.transform(X_train)\n",
    "X_test_std = sc.transform(X_test)\n",
    "\n",
    "print('Labels count in y:', np.bincount(y))\n",
    "print('Labels count in y_train:', np.bincount(y_train))\n",
    "\n",
    "print('Labels count in y_test:', np.bincount(y_test))\n"
   ]
  },
  {
   "cell_type": "markdown",
   "metadata": {},
   "source": [
    "## Logistic Regression using Scikit learn"
   ]
  },
  {
   "cell_type": "code",
   "execution_count": 40,
   "metadata": {
    "collapsed": true
   },
   "outputs": [
    {
     "name": "stderr",
     "output_type": "stream",
     "text": [
      "/Users/samipsinghal/opt/anaconda3/lib/python3.7/site-packages/sklearn/linear_model/logistic.py:947: ConvergenceWarning: lbfgs failed to converge. Increase the number of iterations.\n",
      "  \"of iterations.\", ConvergenceWarning)\n"
     ]
    },
    {
     "data": {
      "text/plain": [
       "LogisticRegression(C=10000000000.0, class_weight=None, dual=False,\n",
       "                   fit_intercept=True, intercept_scaling=1, l1_ratio=None,\n",
       "                   max_iter=1000, multi_class='ovr', n_jobs=None, penalty='l2',\n",
       "                   random_state=1, solver='lbfgs', tol=0.0001, verbose=0,\n",
       "                   warm_start=False)"
      ]
     },
     "execution_count": 40,
     "metadata": {},
     "output_type": "execute_result"
    }
   ],
   "source": [
    "logreg = LogisticRegression(C=1e10, solver='lbfgs', multi_class='ovr',penalty = 'l2' ,max_iter = 1000 , random_state = 1)\n",
    "logreg.fit(X_train_std, y_train)\n",
    "\n",
    "#logreg.fit(X_train_std, y_train)"
   ]
  },
  {
   "cell_type": "markdown",
   "metadata": {},
   "source": [
    "## Training and Test Error"
   ]
  },
  {
   "cell_type": "code",
   "execution_count": 37,
   "metadata": {},
   "outputs": [
    {
     "name": "stdout",
     "output_type": "stream",
     "text": [
      "Misclassified examples: 12\n"
     ]
    }
   ],
   "source": [
    "y_pred = logreg.predict(X_test_std)\n",
    "print('Misclassified examples: %d' % (y_test != y_pred).sum())"
   ]
  },
  {
   "cell_type": "code",
   "execution_count": 38,
   "metadata": {},
   "outputs": [
    {
     "name": "stdout",
     "output_type": "stream",
     "text": [
      "Accuracy: 1.000\n"
     ]
    }
   ],
   "source": [
    "from sklearn.metrics import accuracy_score\n",
    "print('Accuracy: %.3f' % accuracy_score(y_test, y_pred))"
   ]
  },
  {
   "cell_type": "markdown",
   "metadata": {},
   "source": [
    "## Number of Iterations to Converge"
   ]
  },
  {
   "cell_type": "code",
   "execution_count": 39,
   "metadata": {},
   "outputs": [
    {
     "name": "stdout",
     "output_type": "stream",
     "text": [
      "[200]\n"
     ]
    }
   ],
   "source": [
    "print(logreg.n_iter_)"
   ]
  },
  {
   "cell_type": "markdown",
   "metadata": {},
   "source": [
    "## Plottting the features with highest absoulute weight"
   ]
  },
  {
   "cell_type": "code",
   "execution_count": 41,
   "metadata": {},
   "outputs": [
    {
     "name": "stdout",
     "output_type": "stream",
     "text": [
      "[[1.511e+03 2.957e+03 0.000e+00 ... 0.000e+00 1.000e+00 0.000e+00]\n",
      " [1.735e+03 2.766e+03 0.000e+00 ... 0.000e+00 1.000e+00 0.000e+00]\n",
      " [2.810e+02 1.301e+03 0.000e+00 ... 0.000e+00 1.000e+00 0.000e+00]\n",
      " ...\n",
      " [2.800e+01 0.000e+00 0.000e+00 ... 0.000e+00 1.000e+00 0.000e+00]\n",
      " [2.800e+01 0.000e+00 0.000e+00 ... 0.000e+00 1.000e+00 0.000e+00]\n",
      " [2.800e+01 0.000e+00 0.000e+00 ... 0.000e+00 1.000e+00 0.000e+00]]\n",
      "The matrix dimensions of Xw is (3925650, 117)\n"
     ]
    }
   ],
   "source": [
    "import numpy as np\n",
    "import matplotlib.pyplot as plt\n",
    "\n",
    "# We create a matrix with all the labels\n",
    "x_labels_w = X.columns[1:]\n",
    "Xw = np.array(X[x_labels_w].values)\n",
    "print(Xw)\n",
    "print(\"The matrix dimensions of Xw is \" + str(Xw.shape))"
   ]
  },
  {
   "cell_type": "code",
   "execution_count": 42,
   "metadata": {},
   "outputs": [],
   "source": [
    "# For plotting in the Jupyter Notebook environment as an inline output\n",
    "%matplotlib inline"
   ]
  },
  {
   "cell_type": "code",
   "execution_count": 43,
   "metadata": {},
   "outputs": [
    {
     "name": "stderr",
     "output_type": "stream",
     "text": [
      "/Users/samipsinghal/opt/anaconda3/lib/python3.7/site-packages/ipykernel_launcher.py:12: UserWarning: In Matplotlib 3.3 individual lines on a stem plot will be added as a LineCollection instead of individual lines. This significantly improves the performance of a stem plot. To remove this warning and switch to the new behaviour, set the \"use_line_collection\" keyword argument to True.\n",
      "  if sys.path[0] == '':\n"
     ]
    },
    {
     "data": {
      "text/plain": [
       "<StemContainer object of 3 artists>"
      ]
     },
     "execution_count": 43,
     "metadata": {},
     "output_type": "execute_result"
    },
    {
     "data": {
      "image/png": "[encoded data removed]",
      "text/plain": [
       "<Figure size 432x288 with 1 Axes>"
      ]
     },
     "metadata": {
      "needs_background": "light"
     },
     "output_type": "display_data"
    }
   ],
   "source": [
    "# By default, LogisticRegression() is set on penalty as L2 and C=1.\n",
    "# To simulate no regularization, we will select a large C to minimize regularization to later \n",
    "# show the effect of regularization\n",
    "\n",
    "#logreg_w=LogisticRegression(C=1e10,solver = 'lbfgs')\n",
    "\n",
    "#logreg_w.fit(Xw,y)\n",
    "\n",
    "W=logreg.coef_\n",
    "\n",
    "W=W.flatten()\n",
    "plt.stem(W)"
   ]
  },
  {
   "cell_type": "code",
   "execution_count": 44,
   "metadata": {},
   "outputs": [
    {
     "data": {
      "text/plain": [
       "['dst_host_srv_serror_rate', 'serror_rate', 'dst_host_rerror_rate']"
      ]
     },
     "execution_count": 44,
     "metadata": {},
     "output_type": "execute_result"
    }
   ],
   "source": [
    "idx1=np.argsort(np.abs(W))[-1]\n",
    "idx2=np.argsort(np.abs(W))[-2]\n",
    "idx3=np.argsort(np.abs(W))[-3]\n",
    "\n",
    "heavy=[x_labels_w[idx1], x_labels_w[idx2],x_labels_w[idx3]]\n",
    "heavy"
   ]
  },
  {
   "cell_type": "code",
   "execution_count": null,
   "metadata": {},
   "outputs": [],
   "source": []
  }
 ],
 "metadata": {
  "kernelspec": {
   "display_name": "Python 3",
   "language": "python",
   "name": "python3"
  },
  "language_info": {
   "codemirror_mode": {
    "name": "ipython",
    "version": 3
   },
   "file_extension": ".py",
   "mimetype": "text/x-python",
   "name": "python",
   "nbconvert_exporter": "python",
   "pygments_lexer": "ipython3",
   "version": "3.7.4"
  }
 },
 "nbformat": 4,
 "nbformat_minor": 2
}
